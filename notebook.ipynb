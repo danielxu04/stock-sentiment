{
 "cells": [
  {
   "attachments": {},
   "cell_type": "markdown",
   "metadata": {},
   "source": [
    "# Stock Sentiment Analysis from Headlines"
   ]
  },
  {
   "attachments": {},
   "cell_type": "markdown",
   "metadata": {},
   "source": [
    "More and more hedge funds and independent traders are utilizing data science to process the wealth of information available from news headlines in the quest for profit. In this project, I will generate investment insights by applying sentiment analysis on financial news headlines, webscraped from FINVIZ.com. Repsecting data science ethics with regard to webscraping, I have downloaded various HTML files for two large firms: Facebook & Tesla.\n",
    "\n",
    "Through conducting sentiment analysis, we can examine the emotion behind the headlines and predict whether the market feels good or bad about a stock. Then, we can make educated guesses on how certain stocks will perform and trade accordingly. Below, we import these files:"
   ]
  },
  {
   "cell_type": "code",
   "execution_count": 3,
   "metadata": {},
   "outputs": [],
   "source": [
    "# import libraries\n",
    "from bs4 import BeautifulSoup\n",
    "import os\n",
    "\n",
    "html_tables = {}\n",
    "\n",
    "# for every data set in os dataset folder\n",
    "for table_name in os.listdir('datasets'):\n",
    "    # filepath\n",
    "    table_path = f'datasets/{table_name}'\n",
    "\n",
    "    # open as read-only, read into 'html'\n",
    "    table_file = open(table_path, 'r')\n",
    "    html = BeautifulSoup(table_file)\n",
    "\n",
    "    # add news-table to 'html_tables' dictionary\n",
    "    html_table = html.find(id = 'news-table')\n",
    "    html_tables[table_name] = html_table"
   ]
  },
  {
   "attachments": {},
   "cell_type": "markdown",
   "metadata": {},
   "source": [
    "\n",
    "\n",
    "We've now obtained the table which contains all the headlines from each stock's HTML file. Before we move any further, we must investigate the structure in the data table. Let's read a single day of headlines for Tesla. "
   ]
  },
  {
   "cell_type": "code",
   "execution_count": null,
   "metadata": {},
   "outputs": [],
   "source": [
    "tsla = html_tables['tsla_22sep.html']\n",
    "\n",
    "# store all table rows with <tr> tags\n",
    "tsla_tr = tsla.findAll('tr')\n",
    "\n",
    "for i, table_row in enumerate(tsla_tr) :\n",
    "\n",
    "    # store <a> elements in link_text\n",
    "    link_text = table_row.a.get_text()\n",
    "    # store <td> elements in data_text\n",
    "    data_text = table_row.a.get_text()\n",
    "\n",
    "    print(f'File number {i+1}:'); print(link_text); print(data_text)"
   ]
  }
 ],
 "metadata": {
  "kernelspec": {
   "display_name": "base",
   "language": "python",
   "name": "python3"
  },
  "language_info": {
   "codemirror_mode": {
    "name": "ipython",
    "version": 3
   },
   "file_extension": ".py",
   "mimetype": "text/x-python",
   "name": "python",
   "nbconvert_exporter": "python",
   "pygments_lexer": "ipython3",
   "version": "3.9.13"
  },
  "orig_nbformat": 4,
  "vscode": {
   "interpreter": {
    "hash": "4d9defa72c2715dab9f7f172572cd30a1ab1a2083462d32ef96aadb7c6e0c73b"
   }
  }
 },
 "nbformat": 4,
 "nbformat_minor": 2
}
